{
 "cells": [
  {
   "attachments": {},
   "cell_type": "markdown",
   "metadata": {},
   "source": [
    "## Setup\n",
    "- Install required libraries\n",
    "- Configure databricks secrets"
   ]
  },
  {
   "cell_type": "code",
   "execution_count": null,
   "metadata": {},
   "outputs": [],
   "source": [
    "%pip install mlflow\n",
    "%pip install xgboost"
   ]
  },
  {
   "attachments": {},
   "cell_type": "markdown",
   "metadata": {},
   "source": [
    "### Local config"
   ]
  },
  {
   "cell_type": "code",
   "execution_count": null,
   "metadata": {},
   "outputs": [],
   "source": [
    "# import os\n",
    "# os.environ['DATABRICKS_HOST']=\"<redacted>\"\n",
    "# os.environ['DATABRICKS_TOKEN']=\"<redacted>\"\n",
    "# os.environ['DATABRICKS_USERNAME']=\"<redacted>\""
   ]
  },
  {
   "attachments": {},
   "cell_type": "markdown",
   "metadata": {},
   "source": [
    "### Configure mlflow to log to databricks"
   ]
  },
  {
   "cell_type": "code",
   "execution_count": null,
   "metadata": {},
   "outputs": [],
   "source": [
    "import mlflow\n",
    "import os\n",
    "\n",
    "os.environ['MLFLOW_TRACKING_URI']=\"databricks\"\n",
    "\n",
    "databricks_username=os.environ['DATABRICKS_USERNAME']\n",
    "\n",
    "experiment_path=\"/Users/{}/Experiments/mlops-experiment-1\".format(databricks_username)\n",
    "\n",
    "mlflow.set_experiment(experiment_path)\n",
    "mlflow.xgboost.autolog(log_input_examples=True)\n"
   ]
  },
  {
   "attachments": {},
   "cell_type": "markdown",
   "metadata": {},
   "source": [
    "## Data Preprocessing"
   ]
  },
  {
   "cell_type": "code",
   "execution_count": 2,
   "metadata": {},
   "outputs": [
    {
     "name": "stdout",
     "output_type": "stream",
     "text": [
      "['test', 'input', 'output', 'train', 'validation']\n"
     ]
    }
   ],
   "source": [
    "# Copyright 2020 Amazon.com, Inc. or its affiliates. All Rights Reserved.\n",
    "#\n",
    "# Licensed under the Apache License, Version 2.0 (the \"License\"). You\n",
    "# may not use this file except in compliance with the License. A copy of\n",
    "# the License is located at\n",
    "#\n",
    "#     http://aws.amazon.com/apache2.0/\n",
    "#\n",
    "# or in the \"license\" file accompanying this file. This file is\n",
    "# distributed on an \"AS IS\" BASIS, WITHOUT WARRANTIES OR CONDITIONS OF\n",
    "# ANY KIND, either express or implied. See the License for the specific\n",
    "# language governing permissions and limitations under the License.\n",
    "\"\"\"Feature engineers the customer churn dataset.\"\"\"\n",
    "import logging\n",
    "import numpy as np\n",
    "import pandas as pd\n",
    "import os\n",
    "\n",
    "logger = logging.getLogger()\n",
    "logger.setLevel(logging.INFO)\n",
    "logger.info(\"Starting preprocessing.\")\n",
    "\n",
    "try:\n",
    "    os.makedirs(\"data/ml/processing/input\")\n",
    "    os.makedirs(\"data/ml/processing/output\")\n",
    "    os.makedirs(\"data/ml/processing/train\")\n",
    "    os.makedirs(\"data/ml/processing/validation\")\n",
    "    os.makedirs(\"data/ml/processing/test\")\n",
    "except:\n",
    "    pass\n",
    "\n",
    "input_data_path = os.path.join(\"data/ml/processing/input\", \"churn.csv\")\n",
    "\n",
    "logger.info(\"Reading input data\")\n",
    "\n",
    "# read csv\n",
    "df = pd.read_csv(input_data_path)\n",
    "\n",
    "# drop the \"Phone\" feature column\n",
    "df = df.drop([\"Phone\"], axis=1)\n",
    "\n",
    "# Change the data type of \"Area Code\"\n",
    "df[\"Area Code\"] = df[\"Area Code\"].astype(object)\n",
    "\n",
    "# Drop several other columns\n",
    "df = df.drop([\"Day Charge\", \"Eve Charge\", \"Night Charge\", \"Intl Charge\"], axis=1)\n",
    "\n",
    "# Convert categorical variables into dummy/indicator variables.\n",
    "model_data = pd.get_dummies(df)\n",
    "\n",
    "# Create one binary classification target column\n",
    "model_data = pd.concat(\n",
    "    [\n",
    "        model_data[\"Churn?_True.\"],\n",
    "        model_data.drop([\"Churn?_False.\", \"Churn?_True.\"], axis=1),\n",
    "    ],\n",
    "    axis=1,\n",
    ")\n",
    "\n",
    "# Split the data\n",
    "train_data, validation_data, test_data = np.split(\n",
    "    model_data.sample(frac=1, random_state=1729),\n",
    "    [int(0.7 * len(model_data)), int(0.9 * len(model_data))],\n",
    ")\n",
    "\n",
    "print(os.listdir(\"data/\"))\n",
    "print(os.listdir(\"data/ml/\"))\n",
    "print(os.listdir(\"data/ml/processing/\"))\n",
    "\n",
    "train_data.to_csv(\"data/ml/processing/train/train.csv\", header=False, index=False)\n",
    "validation_data.to_csv(\"data/ml/processing/validation/validation.csv\", header=False, index=False)\n",
    "test_data.to_csv(\"data/ml/processing/test/test.csv\", header=False, index=False)\n"
   ]
  },
  {
   "attachments": {},
   "cell_type": "markdown",
   "metadata": {},
   "source": [
    "# Train Model"
   ]
  },
  {
   "cell_type": "code",
   "execution_count": null,
   "metadata": {},
   "outputs": [],
   "source": [
    "from xgboost import XGBClassifier\n",
    "from sklearn.metrics import accuracy_score, recall_score\n",
    "\n",
    "model = XGBClassifier(use_label_encoder=False, eval_metric=\"logloss\")\n",
    "\n",
    "X_train = train_data.drop(\"Churn?_True.\", axis=1)\n",
    "y_train = train_data[\"Churn?_True.\"]\n",
    "\n",
    "X_test = test_data.drop(\"Churn?_True.\", axis=1)\n",
    "y_test = test_data[\"Churn?_True.\"]\n",
    "\n",
    "with mlflow.start_run():\n",
    "    model.fit(X_train, y_train, eval_set=[(X_test, y_test)], verbose=False)\n",
    "    y_pred = model.predict(X_test)\n",
    "\n",
    "    mlflow.log_metrics({\n",
    "        \"acc\": accuracy_score(y_test, y_pred),\n",
    "        \"recall\": recall_score(y_test, y_pred)\n",
    "    })\n",
    "\n",
    "    np.savetxt(\"data/ml/processing/output/predictions.csv\", y_pred)\n",
    "    mlflow.log_artifact(\"data/ml/processing/output/predictions.csv\")"
   ]
  }
 ],
 "metadata": {
  "kernelspec": {
   "display_name": "Python 3",
   "language": "python",
   "name": "python3"
  },
  "language_info": {
   "codemirror_mode": {
    "name": "ipython",
    "version": 3
   },
   "file_extension": ".py",
   "mimetype": "text/x-python",
   "name": "python",
   "nbconvert_exporter": "python",
   "pygments_lexer": "ipython3",
   "version": "3.10.11"
  },
  "orig_nbformat": 4
 },
 "nbformat": 4,
 "nbformat_minor": 2
}
