{
 "cells": [
  {
   "attachments": {},
   "cell_type": "markdown",
   "metadata": {},
   "source": [
    "## Setup\n",
    "- Install required libraries\n",
    "- Configure databricks secrets"
   ]
  },
  {
   "cell_type": "code",
   "execution_count": null,
   "metadata": {},
   "outputs": [],
   "source": [
    "%pip install mlflow\n",
    "%pip install xgboost"
   ]
  },
  {
   "attachments": {},
   "cell_type": "markdown",
   "metadata": {},
   "source": [
    "### Local config"
   ]
  },
  {
   "cell_type": "code",
   "execution_count": null,
   "metadata": {},
   "outputs": [],
   "source": [
    "# import os\n",
    "# os.environ['DATABRICKS_HOST']=\"<redacted>\"\n",
    "# os.environ['DATABRICKS_TOKEN']=\"<redacted>\"\n",
    "# os.environ['DATABRICKS_USERNAME']=\"<redacted>\""
   ]
  },
  {
   "attachments": {},
   "cell_type": "markdown",
   "metadata": {},
   "source": [
    "### Configure mlflow to log to databricks"
   ]
  },
  {
   "cell_type": "code",
   "execution_count": 3,
   "metadata": {},
   "outputs": [
    {
     "ename": "InvalidConfigurationError",
     "evalue": "You haven't configured the CLI yet! Please configure by entering `/Users/lukehobbs/Library/Python/3.10/lib/python/site-packages/ipykernel_launcher.py configure`",
     "output_type": "error",
     "traceback": [
      "\u001b[0;31m---------------------------------------------------------------------------\u001b[0m",
      "\u001b[0;31mInvalidConfigurationError\u001b[0m                 Traceback (most recent call last)",
      "Cell \u001b[0;32mIn[3], line 10\u001b[0m\n\u001b[1;32m      6\u001b[0m databricks_username\u001b[39m=\u001b[39mos\u001b[39m.\u001b[39menviron[\u001b[39m'\u001b[39m\u001b[39mDATABRICKS_USERNAME\u001b[39m\u001b[39m'\u001b[39m]\n\u001b[1;32m      8\u001b[0m experiment_path\u001b[39m=\u001b[39m\u001b[39mf\u001b[39m\u001b[39m\"\u001b[39m\u001b[39m/Users/\u001b[39m\u001b[39m{\u001b[39;00mdatabricks_username\u001b[39m}\u001b[39;00m\u001b[39m/Experiments/mlops-experiment-1\u001b[39m\u001b[39m\"\u001b[39m\n\u001b[0;32m---> 10\u001b[0m mlflow\u001b[39m.\u001b[39;49mset_experiment(experiment_path)\n\u001b[1;32m     11\u001b[0m mlflow\u001b[39m.\u001b[39mxgboost\u001b[39m.\u001b[39mautolog(log_input_examples\u001b[39m=\u001b[39m\u001b[39mTrue\u001b[39;00m)\n",
      "File \u001b[0;32m/opt/homebrew/lib/python3.10/site-packages/mlflow/tracking/fluent.py:114\u001b[0m, in \u001b[0;36mset_experiment\u001b[0;34m(experiment_name, experiment_id)\u001b[0m\n\u001b[1;32m    112\u001b[0m client \u001b[39m=\u001b[39m MlflowClient()\n\u001b[1;32m    113\u001b[0m \u001b[39mif\u001b[39;00m experiment_id \u001b[39mis\u001b[39;00m \u001b[39mNone\u001b[39;00m:\n\u001b[0;32m--> 114\u001b[0m     experiment \u001b[39m=\u001b[39m client\u001b[39m.\u001b[39;49mget_experiment_by_name(experiment_name)\n\u001b[1;32m    115\u001b[0m     \u001b[39mif\u001b[39;00m \u001b[39mnot\u001b[39;00m experiment:\n\u001b[1;32m    116\u001b[0m         _logger\u001b[39m.\u001b[39minfo(\n\u001b[1;32m    117\u001b[0m             \u001b[39m\"\u001b[39m\u001b[39mExperiment with name \u001b[39m\u001b[39m'\u001b[39m\u001b[39m%s\u001b[39;00m\u001b[39m'\u001b[39m\u001b[39m does not exist. Creating a new experiment.\u001b[39m\u001b[39m\"\u001b[39m,\n\u001b[1;32m    118\u001b[0m             experiment_name,\n\u001b[1;32m    119\u001b[0m         )\n",
      "File \u001b[0;32m/opt/homebrew/lib/python3.10/site-packages/mlflow/tracking/client.py:461\u001b[0m, in \u001b[0;36mMlflowClient.get_experiment_by_name\u001b[0;34m(self, name)\u001b[0m\n\u001b[1;32m    430\u001b[0m \u001b[39mdef\u001b[39;00m \u001b[39mget_experiment_by_name\u001b[39m(\u001b[39mself\u001b[39m, name: \u001b[39mstr\u001b[39m) \u001b[39m-\u001b[39m\u001b[39m>\u001b[39m Optional[Experiment]:\n\u001b[1;32m    431\u001b[0m \u001b[39m    \u001b[39m\u001b[39m\"\"\"\u001b[39;00m\n\u001b[1;32m    432\u001b[0m \u001b[39m    Retrieve an experiment by experiment name from the backend store\u001b[39;00m\n\u001b[1;32m    433\u001b[0m \n\u001b[0;32m   (...)\u001b[0m\n\u001b[1;32m    459\u001b[0m \u001b[39m        Lifecycle_stage: active\u001b[39;00m\n\u001b[1;32m    460\u001b[0m \u001b[39m    \"\"\"\u001b[39;00m\n\u001b[0;32m--> 461\u001b[0m     \u001b[39mreturn\u001b[39;00m \u001b[39mself\u001b[39;49m\u001b[39m.\u001b[39;49m_tracking_client\u001b[39m.\u001b[39;49mget_experiment_by_name(name)\n",
      "File \u001b[0;32m/opt/homebrew/lib/python3.10/site-packages/mlflow/tracking/_tracking_service/client.py:220\u001b[0m, in \u001b[0;36mTrackingServiceClient.get_experiment_by_name\u001b[0;34m(self, name)\u001b[0m\n\u001b[1;32m    215\u001b[0m \u001b[39mdef\u001b[39;00m \u001b[39mget_experiment_by_name\u001b[39m(\u001b[39mself\u001b[39m, name):\n\u001b[1;32m    216\u001b[0m \u001b[39m    \u001b[39m\u001b[39m\"\"\"\u001b[39;00m\n\u001b[1;32m    217\u001b[0m \u001b[39m    :param name: The experiment name.\u001b[39;00m\n\u001b[1;32m    218\u001b[0m \u001b[39m    :return: :py:class:`mlflow.entities.Experiment`\u001b[39;00m\n\u001b[1;32m    219\u001b[0m \u001b[39m    \"\"\"\u001b[39;00m\n\u001b[0;32m--> 220\u001b[0m     \u001b[39mreturn\u001b[39;00m \u001b[39mself\u001b[39;49m\u001b[39m.\u001b[39;49mstore\u001b[39m.\u001b[39;49mget_experiment_by_name(name)\n",
      "File \u001b[0;32m/opt/homebrew/lib/python3.10/site-packages/mlflow/store/tracking/rest_store.py:304\u001b[0m, in \u001b[0;36mRestStore.get_experiment_by_name\u001b[0;34m(self, experiment_name)\u001b[0m\n\u001b[1;32m    302\u001b[0m \u001b[39mtry\u001b[39;00m:\n\u001b[1;32m    303\u001b[0m     req_body \u001b[39m=\u001b[39m message_to_json(GetExperimentByName(experiment_name\u001b[39m=\u001b[39mexperiment_name))\n\u001b[0;32m--> 304\u001b[0m     response_proto \u001b[39m=\u001b[39m \u001b[39mself\u001b[39;49m\u001b[39m.\u001b[39;49m_call_endpoint(GetExperimentByName, req_body)\n\u001b[1;32m    305\u001b[0m     \u001b[39mreturn\u001b[39;00m Experiment\u001b[39m.\u001b[39mfrom_proto(response_proto\u001b[39m.\u001b[39mexperiment)\n\u001b[1;32m    306\u001b[0m \u001b[39mexcept\u001b[39;00m MlflowException \u001b[39mas\u001b[39;00m e:\n",
      "File \u001b[0;32m/opt/homebrew/lib/python3.10/site-packages/mlflow/store/tracking/rest_store.py:56\u001b[0m, in \u001b[0;36mRestStore._call_endpoint\u001b[0;34m(self, api, json_body)\u001b[0m\n\u001b[1;32m     54\u001b[0m endpoint, method \u001b[39m=\u001b[39m _METHOD_TO_INFO[api]\n\u001b[1;32m     55\u001b[0m response_proto \u001b[39m=\u001b[39m api\u001b[39m.\u001b[39mResponse()\n\u001b[0;32m---> 56\u001b[0m \u001b[39mreturn\u001b[39;00m call_endpoint(\u001b[39mself\u001b[39;49m\u001b[39m.\u001b[39;49mget_host_creds(), endpoint, method, json_body, response_proto)\n",
      "File \u001b[0;32m/opt/homebrew/lib/python3.10/site-packages/mlflow/utils/databricks_utils.py:422\u001b[0m, in \u001b[0;36mget_databricks_host_creds\u001b[0;34m(server_uri)\u001b[0m\n\u001b[1;32m    420\u001b[0m     config \u001b[39m=\u001b[39m provider\u001b[39m.\u001b[39mProfileConfigProvider(profile)\u001b[39m.\u001b[39mget_config()\n\u001b[1;32m    421\u001b[0m \u001b[39melse\u001b[39;00m:\n\u001b[0;32m--> 422\u001b[0m     config \u001b[39m=\u001b[39m provider\u001b[39m.\u001b[39;49mget_config()\n\u001b[1;32m    423\u001b[0m \u001b[39m# if a path is specified, that implies a Databricks tracking URI of the form:\u001b[39;00m\n\u001b[1;32m    424\u001b[0m \u001b[39m# databricks://profile-name/path-specifier\u001b[39;00m\n\u001b[1;32m    425\u001b[0m \u001b[39mif\u001b[39;00m (\u001b[39mnot\u001b[39;00m config \u001b[39mor\u001b[39;00m \u001b[39mnot\u001b[39;00m config\u001b[39m.\u001b[39mhost) \u001b[39mand\u001b[39;00m path:\n",
      "File \u001b[0;32m/opt/homebrew/lib/python3.10/site-packages/databricks_cli/configure/provider.py:134\u001b[0m, in \u001b[0;36mget_config\u001b[0;34m()\u001b[0m\n\u001b[1;32m    132\u001b[0m \u001b[39mif\u001b[39;00m config:\n\u001b[1;32m    133\u001b[0m     \u001b[39mreturn\u001b[39;00m config\n\u001b[0;32m--> 134\u001b[0m \u001b[39mraise\u001b[39;00m InvalidConfigurationError\u001b[39m.\u001b[39mfor_profile(\u001b[39mNone\u001b[39;00m)\n",
      "\u001b[0;31mInvalidConfigurationError\u001b[0m: You haven't configured the CLI yet! Please configure by entering `/Users/lukehobbs/Library/Python/3.10/lib/python/site-packages/ipykernel_launcher.py configure`"
     ]
    }
   ],
   "source": [
    "import mlflow\n",
    "import os\n",
    "\n",
    "os.environ['MLFLOW_TRACKING_URI']=\"databricks\"\n",
    "\n",
    "databricks_username=os.environ['DATABRICKS_USERNAME']\n",
    "\n",
    "experiment_path=\"/Users/{}/Experiments/mlops-experiment-1\".format(databricks_username)\n",
    "\n",
    "mlflow.set_experiment(experiment_path)\n",
    "mlflow.xgboost.autolog(log_input_examples=True)\n"
   ]
  },
  {
   "attachments": {},
   "cell_type": "markdown",
   "metadata": {},
   "source": [
    "## Data Preprocessing"
   ]
  },
  {
   "cell_type": "code",
   "execution_count": 7,
   "metadata": {},
   "outputs": [],
   "source": [
    "# Copyright 2020 Amazon.com, Inc. or its affiliates. All Rights Reserved.\n",
    "#\n",
    "# Licensed under the Apache License, Version 2.0 (the \"License\"). You\n",
    "# may not use this file except in compliance with the License. A copy of\n",
    "# the License is located at\n",
    "#\n",
    "#     http://aws.amazon.com/apache2.0/\n",
    "#\n",
    "# or in the \"license\" file accompanying this file. This file is\n",
    "# distributed on an \"AS IS\" BASIS, WITHOUT WARRANTIES OR CONDITIONS OF\n",
    "# ANY KIND, either express or implied. See the License for the specific\n",
    "# language governing permissions and limitations under the License.\n",
    "\"\"\"Feature engineers the customer churn dataset.\"\"\"\n",
    "import logging\n",
    "import numpy as np\n",
    "import pandas as pd\n",
    "import os\n",
    "\n",
    "logger = logging.getLogger()\n",
    "logger.setLevel(logging.INFO)\n",
    "logger.info(\"Starting preprocessing.\")\n",
    "\n",
    "try:\n",
    "    os.makedirs(\"data/ml/processing/input\")\n",
    "    os.makedirs(\"data/ml/processing/output\")\n",
    "    os.makedirs(\"data/ml/processing/train\")\n",
    "    os.makedirs(\"data/ml/processing/validation\")\n",
    "    os.makedirs(\"data/ml/processing/test\")\n",
    "except:\n",
    "    pass\n",
    "\n",
    "input_data_path = os.path.join(\"data/ml/processing/input\", \"churn.csv\")\n",
    "\n",
    "logger.info(\"Reading input data\")\n",
    "\n",
    "# read csv\n",
    "df = pd.read_csv(input_data_path)\n",
    "\n",
    "# drop the \"Phone\" feature column\n",
    "df = df.drop([\"Phone\"], axis=1)\n",
    "\n",
    "# Change the data type of \"Area Code\"\n",
    "df[\"Area Code\"] = df[\"Area Code\"].astype(object)\n",
    "\n",
    "# Drop several other columns\n",
    "df = df.drop([\"Day Charge\", \"Eve Charge\", \"Night Charge\", \"Intl Charge\"], axis=1)\n",
    "\n",
    "# Convert categorical variables into dummy/indicator variables.\n",
    "model_data = pd.get_dummies(df)\n",
    "\n",
    "# Create one binary classification target column\n",
    "model_data = pd.concat(\n",
    "    [\n",
    "        model_data[\"Churn?_True.\"],\n",
    "        model_data.drop([\"Churn?_False.\", \"Churn?_True.\"], axis=1),\n",
    "    ],\n",
    "    axis=1,\n",
    ")\n",
    "\n",
    "# Split the data\n",
    "train_data, validation_data, test_data = np.split(\n",
    "    model_data.sample(frac=1, random_state=1729),\n",
    "    [int(0.7 * len(model_data)), int(0.9 * len(model_data))],\n",
    ")\n",
    "\n",
    "train_data.to_csv(\"data/ml/processing/train/train.csv\", header=False, index=False)\n",
    "validation_data.to_csv(\n",
    "    \"data/ml/processing/validation/validation.csv\", header=False, index=False\n",
    ")\n",
    "test_data.to_csv(\"data/ml/processing/test/test.csv\", header=False, index=False)\n"
   ]
  },
  {
   "attachments": {},
   "cell_type": "markdown",
   "metadata": {},
   "source": [
    "# Train Model"
   ]
  },
  {
   "cell_type": "code",
   "execution_count": 28,
   "metadata": {},
   "outputs": [
    {
     "name": "stderr",
     "output_type": "stream",
     "text": [
      "/opt/homebrew/lib/python3.10/site-packages/xgboost/sklearn.py:1395: UserWarning: `use_label_encoder` is deprecated in 1.7.0.\n",
      "  warnings.warn(\"`use_label_encoder` is deprecated in 1.7.0.\")\n",
      "2023/05/18 14:01:50 WARNING mlflow.utils.autologging_utils: MLflow autologging encountered a warning: \"/opt/homebrew/lib/python3.10/site-packages/mlflow/models/signature.py:137: UserWarning: Hint: Inferred schema contains integer column(s). Integer columns in Python cannot represent missing values. If your input data contains missing values at inference time, it will be encoded as floats and will cause a schema enforcement error. The best way to avoid this problem is to infer the model schema based on a realistic data sample (training dataset) that includes missing values. Alternatively, you can declare integer columns as doubles (float64) whenever these columns may have missing values. See `Handling Integers With Missing Values <https://www.mlflow.org/docs/latest/models.html#handling-integers-with-missing-values>`_ for more details.\"\n"
     ]
    }
   ],
   "source": [
    "from xgboost import XGBClassifier\n",
    "from sklearn.metrics import accuracy_score, recall_score\n",
    "\n",
    "model = XGBClassifier(use_label_encoder=False, eval_metric=\"logloss\")\n",
    "\n",
    "X_train = train_data.drop(\"Churn?_True.\", axis=1)\n",
    "y_train = train_data[\"Churn?_True.\"]\n",
    "\n",
    "X_test = test_data.drop(\"Churn?_True.\", axis=1)\n",
    "y_test = test_data[\"Churn?_True.\"]\n",
    "\n",
    "with mlflow.start_run():\n",
    "    model.fit(X_train, y_train, eval_set=[(X_test, y_test)], verbose=False)\n",
    "    y_pred = model.predict(X_test)\n",
    "\n",
    "    mlflow.log_metrics({\n",
    "        \"acc\": accuracy_score(y_test, y_pred),\n",
    "        \"recall\": recall_score(y_test, y_pred)\n",
    "    })\n",
    "\n",
    "    np.savetxt(\"data/ml/processing/output/predictions.csv\", y_pred)\n",
    "    mlflow.log_artifact(\"data/ml/processing/output/predictions.csv\")"
   ]
  }
 ],
 "metadata": {
  "kernelspec": {
   "display_name": "Python 3",
   "language": "python",
   "name": "python3"
  },
  "language_info": {
   "codemirror_mode": {
    "name": "ipython",
    "version": 3
   },
   "file_extension": ".py",
   "mimetype": "text/x-python",
   "name": "python",
   "nbconvert_exporter": "python",
   "pygments_lexer": "ipython3",
   "version": "3.10.11"
  },
  "orig_nbformat": 4
 },
 "nbformat": 4,
 "nbformat_minor": 2
}
